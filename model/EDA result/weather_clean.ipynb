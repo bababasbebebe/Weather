{
  "metadata": {
    "kernelspec": {
      "name": "python",
      "display_name": "Python (Pyodide)",
      "language": "python"
    },
    "language_info": {
      "codemirror_mode": {
        "name": "python",
        "version": 3
      },
      "file_extension": ".py",
      "mimetype": "text/x-python",
      "name": "python",
      "nbconvert_exporter": "python",
      "pygments_lexer": "ipython3",
      "version": "3.8"
    }
  },
  "nbformat_minor": 5,
  "nbformat": 4,
  "cells": [
    {
      "id": "c2ac469f",
      "cell_type": "code",
      "source": "\nimport pandas as pd\nimport matplotlib.pyplot as plt\nimport seaborn as sns\nfrom sklearn.ensemble import RandomForestRegressor\n\n# Загрузка данных\ndf = pd.read_csv('weather_clean.csv')\n\n# Основная информация\ndf.info()\ndf.describe()\n",
      "metadata": {},
      "outputs": [],
      "execution_count": null
    },
    {
      "id": "7092c702",
      "cell_type": "code",
      "source": "\n# Анализ баланса классов (если есть категориальный столбец с классами)\nif 'class' in df.columns:\n    df['class'].value_counts(normalize=True) * 100\n",
      "metadata": {},
      "outputs": [],
      "execution_count": null
    },
    {
      "id": "89b95be8",
      "cell_type": "code",
      "source": "\n# Матрица корреляций\nplt.figure(figsize=(14, 10))\nsns.heatmap(df.corr(numeric_only=True), annot=True, fmt=\".2f\", cmap=\"coolwarm\")\nplt.title(\"Матрица корреляций\")\nplt.show()\n",
      "metadata": {},
      "outputs": [],
      "execution_count": null
    },
    {
      "id": "376d9fb6",
      "cell_type": "code",
      "source": "\n# BoxPlot для продаж по станциям (замени 'sales' и 'station' на свои столбцы)\nif 'sales' in df.columns and 'station' in df.columns:\n    plt.figure(figsize=(12, 6))\n    sns.boxplot(x='station', y='sales', data=df)\n    plt.title(\"Распределение продаж по станциям\")\n    plt.show()\n",
      "metadata": {},
      "outputs": [],
      "execution_count": null
    },
    {
      "id": "20088e3a",
      "cell_type": "code",
      "source": "\n# Обнаружение выбросов (пример для столбца sales)\nif 'sales' in df.columns:\n    Q1 = df['sales'].quantile(0.25)\n    Q3 = df['sales'].quantile(0.75)\n    IQR = Q3 - Q1\n    lower_bound = Q1 - 1.5 * IQR\n    upper_bound = Q3 + 1.5 * IQR\n    outliers = df[(df['sales'] < lower_bound) | (df['sales'] > upper_bound)]\n    print(f\"Найдено выбросов в 'sales': {len(outliers)}\")\n    df['sales'] = df['sales'].clip(lower_bound, upper_bound)  # Замена выбросов\n",
      "metadata": {},
      "outputs": [],
      "execution_count": null
    },
    {
      "id": "fd4e52ed",
      "cell_type": "code",
      "source": "\n# Feature Importance\nfeatures = [col for col in df.columns if col not in ['sales', 'date', 'station', 'class']]\ndf = df.dropna()\nX = df[features]\ny = df['sales']\n\nmodel = RandomForestRegressor(n_estimators=100, random_state=42)\nmodel.fit(X, y)\nimportances = pd.Series(model.feature_importances_, index=features).sort_values(ascending=False)\nprint(\"Feature Importance:\")\nprint(importances)\n\nplt.figure(figsize=(10, 6))\nimportances.plot(kind='bar')\nplt.title(\"Важность признаков\")\nplt.show()\n",
      "metadata": {},
      "outputs": [],
      "execution_count": null
    }
  ]
}